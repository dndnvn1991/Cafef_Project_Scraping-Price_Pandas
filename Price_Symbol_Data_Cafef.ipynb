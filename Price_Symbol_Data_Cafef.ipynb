{
 "cells": [
  {
   "cell_type": "code",
   "execution_count": 2,
   "id": "907740f3",
   "metadata": {},
   "outputs": [],
   "source": [
    "import pandas as pd"
   ]
  },
  {
   "cell_type": "markdown",
   "id": "fcfd71b4",
   "metadata": {},
   "source": [
    "**Trong folder cần có 3 file csv lấy từ Cafef như sau:**\n",
    "- CafeF.HNX.Upto11.05.2023\n",
    "- CafeF.HSX.Upto11.05.2023\n",
    "- CafeF.UPCOM.Upto11.05.2023\n",
    "<br/>\n",
    "-Note: Ta thấy các file có dạng CafeF.UPCOM.Upto[Ngay-Thang-Nam]"
   ]
  },
  {
   "cell_type": "code",
   "execution_count": 72,
   "id": "dcd1b24f",
   "metadata": {},
   "outputs": [],
   "source": [
    "#Bước 0: Nhập ngày lấy data\n",
    "data_ngay ='11.05.2023'    #'CafeF.HNX.Upto{data}.csv'.format(data =data_ngay)\n",
    "fil_number = 20230510"
   ]
  },
  {
   "cell_type": "code",
   "execution_count": 21,
   "id": "29e1133e",
   "metadata": {},
   "outputs": [],
   "source": [
    "#Bước 1: Load Dataset vào Dataframe - Sử dụng  format method  \n",
    "HNX_df = pd.read_csv('CafeF.HNX.Upto{data}.csv'.format(data =data_ngay))\n",
    "HOSE_df = pd.read_csv('CafeF.HSX.Upto{data}.csv'.format(data =data_ngay))\n",
    "UPCOM_df = pd.read_csv('CafeF.UPCOM.Upto{data}.csv'.format(data =data_ngay))"
   ]
  },
  {
   "cell_type": "code",
   "execution_count": 67,
   "id": "519bba7e",
   "metadata": {},
   "outputs": [],
   "source": [
    "HNX_df['San'] ='HNX'\n",
    "HOSE_df['San'] ='HOSE'\n",
    "UPCOM_df['San'] ='UPCOM'"
   ]
  },
  {
   "cell_type": "code",
   "execution_count": 68,
   "id": "02455f78",
   "metadata": {},
   "outputs": [
    {
     "name": "stdout",
     "output_type": "stream",
     "text": [
      "<class 'pandas.core.frame.DataFrame'>\n",
      "RangeIndex: 752227 entries, 0 to 752226\n",
      "Data columns (total 8 columns):\n",
      " #   Column        Non-Null Count   Dtype  \n",
      "---  ------        --------------   -----  \n",
      " 0   <Ticker>      752227 non-null  object \n",
      " 1   <DTYYYYMMDD>  752227 non-null  int64  \n",
      " 2   <Open>        752227 non-null  float64\n",
      " 3   <High>        752227 non-null  float64\n",
      " 4   <Low>         752227 non-null  float64\n",
      " 5   <Close>       752227 non-null  float64\n",
      " 6   <Volume>      752227 non-null  int64  \n",
      " 7   San           752227 non-null  object \n",
      "dtypes: float64(4), int64(2), object(2)\n",
      "memory usage: 45.9+ MB\n"
     ]
    }
   ],
   "source": [
    "#Bước 2: Nối 3 Dataframe bằng append method \n",
    "HNX_df.info()"
   ]
  },
  {
   "cell_type": "code",
   "execution_count": 74,
   "id": "4749a492",
   "metadata": {},
   "outputs": [
    {
     "name": "stderr",
     "output_type": "stream",
     "text": [
      "C:\\Users\\This PC\\AppData\\Local\\Temp\\ipykernel_19688\\2302251596.py:1: FutureWarning: The frame.append method is deprecated and will be removed from pandas in a future version. Use pandas.concat instead.\n",
      "  df = HOSE_df.append(HNX_df, ignore_index=True).append(UPCOM_df, ignore_index=True)\n"
     ]
    },
    {
     "data": {
      "text/html": [
       "<div>\n",
       "<style scoped>\n",
       "    .dataframe tbody tr th:only-of-type {\n",
       "        vertical-align: middle;\n",
       "    }\n",
       "\n",
       "    .dataframe tbody tr th {\n",
       "        vertical-align: top;\n",
       "    }\n",
       "\n",
       "    .dataframe thead th {\n",
       "        text-align: right;\n",
       "    }\n",
       "</style>\n",
       "<table border=\"1\" class=\"dataframe\">\n",
       "  <thead>\n",
       "    <tr style=\"text-align: right;\">\n",
       "      <th></th>\n",
       "      <th>&lt;Ticker&gt;</th>\n",
       "      <th>&lt;Close&gt;</th>\n",
       "      <th>San</th>\n",
       "      <th>&lt;DTYYYYMMDD&gt;</th>\n",
       "    </tr>\n",
       "  </thead>\n",
       "  <tbody>\n",
       "    <tr>\n",
       "      <th>1850690</th>\n",
       "      <td>A32</td>\n",
       "      <td>33.00</td>\n",
       "      <td>UPCOM</td>\n",
       "      <td>20230510</td>\n",
       "    </tr>\n",
       "    <tr>\n",
       "      <th>434</th>\n",
       "      <td>AAA</td>\n",
       "      <td>10.90</td>\n",
       "      <td>HOSE</td>\n",
       "      <td>20230510</td>\n",
       "    </tr>\n",
       "    <tr>\n",
       "      <th>435</th>\n",
       "      <td>AAM</td>\n",
       "      <td>11.00</td>\n",
       "      <td>HOSE</td>\n",
       "      <td>20230510</td>\n",
       "    </tr>\n",
       "    <tr>\n",
       "      <th>1850691</th>\n",
       "      <td>AAS</td>\n",
       "      <td>11.70</td>\n",
       "      <td>UPCOM</td>\n",
       "      <td>20230510</td>\n",
       "    </tr>\n",
       "    <tr>\n",
       "      <th>436</th>\n",
       "      <td>AAT</td>\n",
       "      <td>5.39</td>\n",
       "      <td>HOSE</td>\n",
       "      <td>20230510</td>\n",
       "    </tr>\n",
       "    <tr>\n",
       "      <th>...</th>\n",
       "      <td>...</td>\n",
       "      <td>...</td>\n",
       "      <td>...</td>\n",
       "      <td>...</td>\n",
       "    </tr>\n",
       "    <tr>\n",
       "      <th>1851043</th>\n",
       "      <td>XMC</td>\n",
       "      <td>7.50</td>\n",
       "      <td>UPCOM</td>\n",
       "      <td>20230510</td>\n",
       "    </tr>\n",
       "    <tr>\n",
       "      <th>1851044</th>\n",
       "      <td>XMD</td>\n",
       "      <td>6.70</td>\n",
       "      <td>UPCOM</td>\n",
       "      <td>20230510</td>\n",
       "    </tr>\n",
       "    <tr>\n",
       "      <th>1851045</th>\n",
       "      <td>YBC</td>\n",
       "      <td>9.00</td>\n",
       "      <td>UPCOM</td>\n",
       "      <td>20230510</td>\n",
       "    </tr>\n",
       "    <tr>\n",
       "      <th>871</th>\n",
       "      <td>YBM</td>\n",
       "      <td>6.86</td>\n",
       "      <td>HOSE</td>\n",
       "      <td>20230510</td>\n",
       "    </tr>\n",
       "    <tr>\n",
       "      <th>872</th>\n",
       "      <td>YEG</td>\n",
       "      <td>11.35</td>\n",
       "      <td>HOSE</td>\n",
       "      <td>20230510</td>\n",
       "    </tr>\n",
       "  </tbody>\n",
       "</table>\n",
       "<p>1034 rows × 4 columns</p>\n",
       "</div>"
      ],
      "text/plain": [
       "        <Ticker>  <Close>    San  <DTYYYYMMDD>\n",
       "1850690      A32    33.00  UPCOM      20230510\n",
       "434          AAA    10.90   HOSE      20230510\n",
       "435          AAM    11.00   HOSE      20230510\n",
       "1850691      AAS    11.70  UPCOM      20230510\n",
       "436          AAT     5.39   HOSE      20230510\n",
       "...          ...      ...    ...           ...\n",
       "1851043      XMC     7.50  UPCOM      20230510\n",
       "1851044      XMD     6.70  UPCOM      20230510\n",
       "1851045      YBC     9.00  UPCOM      20230510\n",
       "871          YBM     6.86   HOSE      20230510\n",
       "872          YEG    11.35   HOSE      20230510\n",
       "\n",
       "[1034 rows x 4 columns]"
      ]
     },
     "execution_count": 74,
     "metadata": {},
     "output_type": "execute_result"
    }
   ],
   "source": [
    "df = HOSE_df.append(HNX_df, ignore_index=True).append(UPCOM_df, ignore_index=True)\n",
    "data = df[df['<DTYYYYMMDD>'] == fil_number]\n",
    "data = data[['<Ticker>','<Close>','San', '<DTYYYYMMDD>']].sort_values(by='<Ticker>')\n",
    "data"
   ]
  },
  {
   "cell_type": "code",
   "execution_count": 1,
   "id": "9c3e8442",
   "metadata": {},
   "outputs": [
    {
     "ename": "NameError",
     "evalue": "name 'data' is not defined",
     "output_type": "error",
     "traceback": [
      "\u001b[1;31m---------------------------------------------------------------------------\u001b[0m",
      "\u001b[1;31mNameError\u001b[0m                                 Traceback (most recent call last)",
      "Input \u001b[1;32mIn [1]\u001b[0m, in \u001b[0;36m<cell line: 2>\u001b[1;34m()\u001b[0m\n\u001b[0;32m      1\u001b[0m \u001b[38;5;66;03m#Bước 3: Đổi tên cột xuất file cho đẹp \u001b[39;00m\n\u001b[1;32m----> 2\u001b[0m \u001b[43mdata\u001b[49m\u001b[38;5;241m.\u001b[39mrename(columns\u001b[38;5;241m=\u001b[39m{\u001b[38;5;124m'\u001b[39m\u001b[38;5;124m<Ticker>\u001b[39m\u001b[38;5;124m'\u001b[39m:\u001b[38;5;124m'\u001b[39m\u001b[38;5;124mTicker\u001b[39m\u001b[38;5;124m'\u001b[39m, \u001b[38;5;124m'\u001b[39m\u001b[38;5;124m<Close>\u001b[39m\u001b[38;5;124m'\u001b[39m:\u001b[38;5;124m'\u001b[39m\u001b[38;5;124mClose\u001b[39m\u001b[38;5;124m'\u001b[39m,\u001b[38;5;124m'\u001b[39m\u001b[38;5;124m<DTYYYYMMDD>\u001b[39m\u001b[38;5;124m'\u001b[39m:\u001b[38;5;124m'\u001b[39m\u001b[38;5;124mDate Time\u001b[39m\u001b[38;5;124m'\u001b[39m}, inplace\u001b[38;5;241m=\u001b[39m\u001b[38;5;28;01mTrue\u001b[39;00m)\n",
      "\u001b[1;31mNameError\u001b[0m: name 'data' is not defined"
     ]
    }
   ],
   "source": [
    "#Bước 3: Đổi tên cột xuất file cho đẹp \n",
    "data.rename(columns={'<Ticker>':'Ticker', '<Close>':'Close','<DTYYYYMMDD>':'Date Time'}, inplace=True)"
   ]
  },
  {
   "cell_type": "code",
   "execution_count": 71,
   "id": "ca07349d",
   "metadata": {},
   "outputs": [],
   "source": [
    "data.to_csv('DataGia_{data}.csv'.format(data =data_ngay), index=False)"
   ]
  },
  {
   "cell_type": "code",
   "execution_count": null,
   "id": "0797db5d",
   "metadata": {},
   "outputs": [],
   "source": []
  }
 ],
 "metadata": {
  "kernelspec": {
   "display_name": "Python 3 (ipykernel)",
   "language": "python",
   "name": "python3"
  },
  "language_info": {
   "codemirror_mode": {
    "name": "ipython",
    "version": 3
   },
   "file_extension": ".py",
   "mimetype": "text/x-python",
   "name": "python",
   "nbconvert_exporter": "python",
   "pygments_lexer": "ipython3",
   "version": "3.9.12"
  }
 },
 "nbformat": 4,
 "nbformat_minor": 5
}
